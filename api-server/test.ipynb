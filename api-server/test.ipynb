{
 "cells": [
  {
   "cell_type": "markdown",
   "id": "73b90c6d-5e6b-4742-afa5-d11c0118f545",
   "metadata": {},
   "source": [
    "## FastAPI 실행 및 사용법\n",
    "- 실행\n",
    "  ```bash\n",
    "  # gcp 인스턴스 > hortonworks 도커 컨테이너 기준\n",
    "  cd /api-server/set\n",
    "  ```\n",
    "- "
   ]
  },
  {
   "cell_type": "code",
   "execution_count": 3,
   "id": "c6b11789-f4f5-477f-8f1b-e5f70aba0628",
   "metadata": {},
   "outputs": [
    {
     "data": {
      "text/plain": [
       "'World'"
      ]
     },
     "execution_count": 3,
     "metadata": {},
     "output_type": "execute_result"
    }
   ],
   "source": [
    "import requests\n",
    "\n",
    "url = f'http://127.0.0.1:8000'\n",
    "\n",
    "response = requests.get(url)"
   ]
  },
  {
   "cell_type": "code",
   "execution_count": null,
   "id": "43a85f60-a5f7-4a45-8f8a-41f87a8dfc9d",
   "metadata": {},
   "outputs": [],
   "source": []
  }
 ],
 "metadata": {
  "kernelspec": {
   "display_name": "Python 3 (ipykernel)",
   "language": "python",
   "name": "python3"
  },
  "language_info": {
   "codemirror_mode": {
    "name": "ipython",
    "version": 3
   },
   "file_extension": ".py",
   "mimetype": "text/x-python",
   "name": "python",
   "nbconvert_exporter": "python",
   "pygments_lexer": "ipython3",
   "version": "3.12.2"
  }
 },
 "nbformat": 4,
 "nbformat_minor": 5
}
